{
  "nbformat": 4,
  "nbformat_minor": 0,
  "metadata": {
    "colab": {
      "name": "project1.ipynb",
      "provenance": [],
      "collapsed_sections": [],
      "include_colab_link": true
    },
    "kernelspec": {
      "name": "python3",
      "display_name": "Python 3"
    }
  },
  "cells": [
    {
      "cell_type": "markdown",
      "metadata": {
        "id": "view-in-github",
        "colab_type": "text"
      },
      "source": [
        "<a href=\"https://colab.research.google.com/github/riaverma96/boost-python-examples/blob/master/project1.ipynb\" target=\"_parent\"><img src=\"https://colab.research.google.com/assets/colab-badge.svg\" alt=\"Open In Colab\"/></a>"
      ]
    },
    {
      "cell_type": "markdown",
      "metadata": {
        "id": "jvZZYD-NL1EE",
        "colab_type": "text"
      },
      "source": [
        "# Project 2: Probabilistic Inference\n",
        "\n",
        "## TAs TODO/CHECKLIST:\n",
        "* make powerpoint template\n",
        "* complete instructions and ground-truth solution here\n",
        "* make sure submission instructions are great\n",
        "* Ria: do final read-through to make sure it is unambiguous/doable.\n",
        "* see if we can use this notebook instead of project1.md, without solution of course (do not commit solution to github!)\n",
        "\n",
        "Remember: the more work we put in to make the assignment clear, doable, unambiguous, the less blwoback we'll get on Piazza. We do not want to update the instructions if at all possible!"
      ]
    },
    {
      "cell_type": "code",
      "metadata": {
        "id": "6es2cZHQLo8A",
        "colab_type": "code",
        "colab": {}
      },
      "source": [
        "import numpy as np\n",
        "import unittest\n",
        "\n",
        "# import gtsam"
      ],
      "execution_count": 0,
      "outputs": []
    },
    {
      "cell_type": "markdown",
      "metadata": {
        "id": "g4TrQfNKZffW",
        "colab_type": "text"
      },
      "source": [
        "\n",
        "\n",
        "This part is a team-effort. Sign up to one of the sessions.\n",
        "\n",
        "TODO: how do they proof it's done? Something has to end up in the powerpoint template."
      ]
    },
    {
      "cell_type": "markdown",
      "metadata": {
        "id": "ArKAQlsAZkxq",
        "colab_type": "text"
      },
      "source": [
        "## Probabilistic Inference"
      ]
    },
    {
      "cell_type": "markdown",
      "metadata": {
        "id": "wGTZfiGtL-k-",
        "colab_type": "text"
      },
      "source": [
        "### Simulation\n",
        "* Define a prior on the state\n",
        "* Define a sensor model\n",
        "* Define a transition model\n",
        "* Sample from it"
      ]
    },
    {
      "cell_type": "code",
      "metadata": {
        "id": "Q9WI6eoIMfDb",
        "colab_type": "code",
        "colab": {}
      },
      "source": [
        "# Actions and states\n",
        "ACTIONS = [\"Left\", \"Right\", \"Up\", \"Down\"]\n",
        "STATES = [(x, y) for x in range(10) for y in range(10)]\n",
        "\n",
        "# Implement a function that maps from a string representing the action to the\n",
        "# probability of that action.\n",
        "# Hint: action is the key, and probability is the value.\n",
        "def action_prior(action):\n",
        "  \"\"\"Return prior probability distribution on an action.\n",
        "    arguments:\n",
        "      action (string): \"Left\", \"Right\", \"Up\", \"Down\"\n",
        "    returns:\n",
        "      probability of given action (float).\n",
        "  \"\"\"\n",
        "  p = {\"Left\": 0.2, \"Right\": 0.6, \"Up\": 0.1, \"Down\": 0.1}\n",
        "  return p[action]\n",
        "\n",
        "# Implement a function that maps from a coordinate pair (x,y) to the\n",
        "# probability of the robot being in that location.\n",
        "def state_prior(state):\n",
        "  \"\"\"Return prior probability distribution on a state.\n",
        "    arguments:\n",
        "      state (pair): (x: int, y: int)\n",
        "    returns:\n",
        "      probability of given state (float).\n",
        "  \"\"\"\n",
        "  # Use np.array to create a 2D array that represents the prior on the state\n",
        "  # (i,j) where i is the row index and j is the column index of the agent's\n",
        "  # position.\n",
        "  state_prior_matrix = np.array([\n",
        "      [0, 0, 0, 0, 1, 0, 0, 0, 0, 0],\n",
        "      [0, 1, 0, 0, 0, 0, 0, 0, 0, 0],\n",
        "      [0, 0, 0, 0, 0, 0, 0, 0, 0, 0],\n",
        "      [0, 0, 0, 1, 0, 0, 0, 0, 0, 0],\n",
        "      [1, 0, 0, 0, 0, 1, 0, 0, 1, 0],\n",
        "      [0, 0, 0, 0, 0, 0, 0, 0, 0, 0],\n",
        "      [0, 0, 0, 0, 0, 0, 0, 0, 0, 0],\n",
        "      [0, 0, 1, 0, 0, 0, 1, 0, 0, 0],\n",
        "      [0, 0, 0, 0, 0, 0, 0, 1, 0, 0],\n",
        "      [0, 0, 0, 0, 0, 0, 0, 0, 0, 1],\n",
        "  ], dtype=np.float) / 10.0\n",
        "  return state_prior_matrix[state]\n",
        "\n",
        "\n",
        "def calculate_cdf(pmf, ordered_outcomes):\n",
        "  \"\"\"Calculate cumulative distribution function.\n",
        "    arguments:\n",
        "      pmf (function): probability mass function.\n",
        "      ordered_outcomes (list): all outcomes in an ordered list.\n",
        "    returns:\n",
        "      a function that represents the CDF\n",
        "    note:\n",
        "      The ordered_outcomes defines how the CDF behaves.\n",
        "  \"\"\"\n",
        "  cd_values = np.cumsum([pmf(outcome) for outcome in ordered_outcomes])\n",
        "\n",
        "  def cdf(outcome):\n",
        "    return cd_values[ordered_outcomes.index(outcome)]\n",
        "\n",
        "  return cdf\n",
        "\n",
        "\n",
        "# Fill in the body of the following function to sample from an arbitrary PMF.\n",
        "def sample_from_pmf(pmf, ordered_outcomes):\n",
        "  \"\"\"Sample from a PMF\n",
        "    arguments:\n",
        "      pmf (np.array): a probability mass function\n",
        "      ordered_outcomes (list): ordered list of all outcomes\n",
        "    returns:\n",
        "      if 1D: an index i \\in [0.0,N-1[ where N is number of outcomes.\n",
        "      if 2D: a pair (i,j) in the array\n",
        "  \"\"\"\n",
        "  # create CDF\n",
        "  cdf = calculate_cdf(pmf, ordered_outcomes)\n",
        "\n",
        "  # sample u uniformly\n",
        "  rand_val = np.random.rand()\n",
        "  ordered_cdf = np.array([cdf(outcome) for outcome in ordered_outcomes])\n",
        "  sample = (-np.argmax(ordered_cdf[::-1] <= rand_val)) % ordered_cdf.size\n",
        "  # return index according to inverse transform method\n",
        "  # convert to 2D indices if 2D\n",
        "  return ordered_outcomes[sample]\n",
        "\n",
        "\n",
        "# Define the sensor model conditional distribution, P(O|S), in functional form,\n",
        "# i.e., fill in the body of the function below.\n",
        "def sensor_model(k, S):\n",
        "  \"\"\"Give value of CPT for sensor model P(O|S).\n",
        "    arguments:\n",
        "      k: the value of the sensor, a vertical coordinate.\n",
        "      S (int,int): a pair (i,j), representing the position in the grid.\n",
        "    returns:\n",
        "      P(k|i,j).\n",
        "    notes:\n",
        "      Sensor reports noisy observation of vertical coordinate i.\n",
        "  \"\"\"\n",
        "  i, j = S\n",
        "  return (0.91 if k == i else 0.01)\n",
        "\n",
        "\n",
        "# Define the state transition model P(T|S,A)\n",
        "def transition_model(t, S, A):\n",
        "  \"\"\"Give value of CPT for transition model P(T|S,A).\n",
        "    arguments:\n",
        "      t (int,int): a pair (i,j), representing the next position in the grid\n",
        "      S (int,int): a pair (i,j), representing the position in the grid.\n",
        "      A (str): a string representing the action to be taken\n",
        "    returns:\n",
        "      P(T|S,A).\n",
        "  \"\"\"\n",
        "  next_pos_tbl = {\n",
        "      \"Left\": (i-1, j),\n",
        "      \"Right\": (i+1, j),\n",
        "      \"Up\": (i, j-1),\n",
        "      \"Down\": (i, j+1)\n",
        "  }\n",
        "  next_pos = next_pos_tbl[A]\n",
        "  next_pos[0] = max(l, min(10, next_pos[0]))\n",
        "  next_pos[1] = max(l, min(10, next_pos[1]))\n",
        "  if t == next_pos:\n",
        "    return 1.0\n",
        "  else:\n",
        "    return 0.0\n",
        "# Define a function to sample from the DBN, three steps.\n"
      ],
      "execution_count": 0,
      "outputs": []
    },
    {
      "cell_type": "markdown",
      "metadata": {
        "id": "2ctZtHXpWEC8",
        "colab_type": "text"
      },
      "source": [
        "### Implement Maximum Probable Explanation (MPE)\n",
        "\n",
        "Above you sampled from the Dynamic Bayes net, yielding actions, states, and observations. In ths section, you will implement MPE, which infers the most probable values of the states, given the actions and observations. I.e., you are asked to maximize the posterior probability\n",
        "$$P(S_1, S_2, S_3|A_1=a_1, O_1=o_1, A_2=a_2, O_2=o_2, O_3=o_3)$$\n",
        "To do this, you will implement a highly specialized version of the max-product algorithm."
      ]
    },
    {
      "cell_type": "code",
      "metadata": {
        "id": "j5Ibwn5PozYI",
        "colab_type": "code",
        "colab": {}
      },
      "source": [
        "# Max-Product Algorithm\n",
        "\n",
        "def maximum_probable_explanation(actions, observations):\n",
        "  \"\"\"Calculate the most probable states given the actions and observations\n",
        "    arguments:\n",
        "      actions ([str]): Array of all actions taken\n",
        "      observations ([int]): Sensor measurements\n",
        "    returns:\n",
        "      list of moast probable states.\n",
        "  \"\"\"\n",
        "\n",
        "  return []"
      ],
      "execution_count": 0,
      "outputs": []
    },
    {
      "cell_type": "markdown",
      "metadata": {
        "id": "fjewlykCV8FV",
        "colab_type": "text"
      },
      "source": [
        "### Do MPE with GTSAM\n",
        "\n",
        "Here, you will implement the same calculation by creating a Bayes net in GTSAM, and using it to do the MPE."
      ]
    },
    {
      "cell_type": "code",
      "metadata": {
        "id": "h-ETnI9v_oHw",
        "colab_type": "code",
        "colab": {}
      },
      "source": [
        "# DO MPE code"
      ],
      "execution_count": 0,
      "outputs": []
    },
    {
      "cell_type": "code",
      "metadata": {
        "id": "cj6ykvnmNMXx",
        "colab_type": "code",
        "outputId": "5f0c59a5-1f08-447b-fc87-87dd59a0f3fb",
        "colab": {
          "base_uri": "https://localhost:8080/",
          "height": 107
        }
      },
      "source": [
        "# Unit tests\n",
        "from collections import Counter\n",
        "\n",
        "class TestProject1(unittest.TestCase):\n",
        "  \"\"\"All (public) unit tests for project 1.\"\"\"\n",
        "\n",
        "  def test_action_prior(self):\n",
        "    \"\"\"Check the prior on actions.\"\"\"\n",
        "    sum = 0.0\n",
        "    for action in ACTIONS:\n",
        "      p = action_prior(action)\n",
        "      self.assertGreaterEqual(p, 0)\n",
        "      self.assertLessEqual(p, 1.0)\n",
        "      sum += p\n",
        "    self.assertEqual(sum, 1.0)\n",
        "\n",
        "  @unittest.skip\n",
        "  def test_state_prior(self):\n",
        "    \"\"\"Check the state prior.\"\"\"\n",
        "    self.assertEqual(state_prior.shape, (10, 10))\n",
        "    self.assertTrue(np.min(action_prior) >= 0)\n",
        "    self.assertEqual(np.sum(state_prior), 1.0)\n",
        "\n",
        "  def test_action_cdf(self):\n",
        "    \"\"\"Check calculating of cumulative distribution functions.\"\"\"\n",
        "    action_cdf = calculate_cdf(action_prior, ACTIONS)\n",
        "    self.assertEqual(action_cdf(\"Left\"), 0.2)\n",
        "    self.assertEqual(action_cdf(\"Right\"), 0.8)\n",
        "    self.assertEqual(action_cdf(\"Up\"), 0.9)\n",
        "    self.assertEqual(action_cdf(\"Down\"), 1.0)\n",
        "\n",
        "  def test_sample_action_sanity(self):\n",
        "    \"\"\"Check sampling from discrete distributions.\"\"\"\n",
        "    sampled_action = sample_from_pmf(action_prior, ACTIONS)\n",
        "    self.assertTrue(sampled_action in ACTIONS)\n",
        "\n",
        "  def test_sample_action_accuracy(self):\n",
        "    \"\"\"Check actual sampling from discrete distributions.\"\"\"\n",
        "    samples = [sample_from_pmf(action_prior, ACTIONS) for x in range(1000)]\n",
        "    hist = np.array([Counter(samples)[act] for act in ACTIONS])\n",
        "    hist = hist / np.sum(hist)  # normalize\n",
        "    pmf_flattened = np.array([action_prior(act) for act in ACTIONS])\n",
        "    np.testing.assert_allclose(hist, pmf_flattened, atol=1e-1, rtol=1e-1)\n",
        "\n",
        "  def test_sample_state(self):\n",
        "    \"\"\"Check sampling from discrete distribution where PMF is 2D.\"\"\"\n",
        "    sampled_state = sample_from_pmf(state_prior, STATES)\n",
        "    self.assertGreaterEqual(sampled_state[0], 0)\n",
        "    self.assertLess(sampled_state[0], 100)\n",
        "\n",
        "  def test_sample_state_accuracy(self):\n",
        "    \"\"\"Check actual sampling from discrete distributions.\"\"\"\n",
        "    samples = [sample_from_pmf(state_prior, STATES) for x in range(1000)]\n",
        "    hist = np.array([Counter(samples)[act] for act in STATES])\n",
        "    hist = hist / np.sum(hist)  # normalize\n",
        "    pmf_flattened = np.array([state_prior(act) for act in STATES])\n",
        "    np.testing.assert_allclose(hist, pmf_flattened, atol=1e-1, rtol=1e-1)\n",
        "\n",
        "  def test_sensor_model(self):\n",
        "    \"\"\"Check that sensor model is correct.\"\"\"\n",
        "    S = 2, 5\n",
        "    self.assertEqual(sensor_model(0, S), 0.01)\n",
        "    self.assertEqual(sensor_model(1, S), 0.01)\n",
        "    self.assertEqual(sensor_model(2, S), 0.91)\n",
        "    self.assertEqual(sensor_model(3, S), 0.01)\n",
        "    self.assertEqual(sensor_model(4, S), 0.01)\n",
        "\n",
        "\n",
        "if __name__ == '__main__':\n",
        "  unittest.main(argv=['first-arg-is-ignored'], exit=False)\n"
      ],
      "execution_count": 0,
      "outputs": [
        {
          "output_type": "stream",
          "text": [
            "........\n",
            "----------------------------------------------------------------------\n",
            "Ran 8 tests in 1.650s\n",
            "\n",
            "OK\n"
          ],
          "name": "stderr"
        }
      ]
    },
    {
      "cell_type": "code",
      "metadata": {
        "id": "crjhAl82LDKq",
        "colab_type": "code",
        "colab": {}
      },
      "source": [
        ""
      ],
      "execution_count": 0,
      "outputs": []
    }
  ]
}